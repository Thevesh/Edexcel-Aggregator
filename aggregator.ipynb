{
 "cells": [
  {
   "cell_type": "markdown",
   "metadata": {},
   "source": [
    "# What will my Math/Further Math grades be?\n",
    "\n",
    "This notebook implements the Edexcel aggregation rules to demonstrate the A-level grades that would be obtained from a set of module scores. Simply input your scores below and let the code handle the rest!\n",
    "\n",
    "As a guiding philosophy, the aggregation rules aim to do the following:\n",
    "\n",
    "1. Maximise the Maths grade, then the Further Maths grade.\n",
    "2. Maximise the Maths UMS, then the Further Maths UMS.\n",
    "\n",
    "Just to be clear, the order of priority above implies that lowering your Maths UMS **(without reducing the grade)** in order to increase your Further Maths grade *is* acceptable, since grades are maximised before UMS. However, if increasing your Further Maths grade comes at the cost of reducing your Maths grade, that would *not* be acceptable, since the Math grade is maximised before the Further Maths grade.\n",
    "\n",
    "For the sake of parsimony, this notebook will *not* do the following:\n",
    "\n",
    "-  compute AS-level grades (it only handles the overall A-level)\n",
    "-  compute Pure Maths or Additional Further Maths grades\n",
    "-  handle manual requests which run against the guiding philosophy (e.g. maximising Further Maths grade before Maths grade)\n",
    "\n",
    "*Note: Manual requests can be handled by Edexcel. No issue. But this Notebook only aims to demonstrate the standard Edexcel aggregation, not handle special requests*."
   ]
  },
  {
   "cell_type": "markdown",
   "metadata": {},
   "source": [
    "## Algorithm (based on the [Edexcel Aggregation Rules](http://furthermaths.org.uk/docs/Aggregation%20rules%20for%20HEIs%20~%20Version%203%20January%202013.pdf))\n",
    "\n",
    "1. Allocate C1, C2, C3, C4 to Math (non-negotiable).\n",
    "2. Allocate the highest two of FP1,FP2,FP3 to Further Math (non-negotiable).\n",
    "3. Allocate the best of the following 6 pairs to Math:\n",
    "    -  M1+M2\n",
    "    -  S1+S2\n",
    "    -  D1+D2\n",
    "    -  M1+S1\n",
    "    -  M1+D1\n",
    "    -  S1+D1. \n",
    "4. Allocate the highest 4 of the remaining modules to Further Math.\n",
    "5. Check if the Further Math grade can be improved on by allocating the best pair from step (3) to Further Math and the second best pair to Math, *subject to not lowering the Math grade*.\n",
    "6. If it can, then the re-allocation is performed. If it cannot, then the allocation in (4) is already optimal."
   ]
  },
  {
   "cell_type": "code",
   "execution_count": 10,
   "metadata": {},
   "outputs": [
    {
     "data": {
      "application/javascript": [
       "IPython.notebook.execute_cells_below()"
      ],
      "text/plain": [
       "<IPython.core.display.Javascript object>"
      ]
     },
     "metadata": {},
     "output_type": "display_data"
    },
    {
     "data": {
      "application/vnd.jupyter.widget-view+json": {
       "model_id": "892ca9cc82c14e9f97b37a79e671aa63",
       "version_major": 2,
       "version_minor": 0
      },
      "text/plain": [
       "A Jupyter Widget"
      ]
     },
     "metadata": {},
     "output_type": "display_data"
    }
   ],
   "source": [
    "import pandas as pd\n",
    "import numpy as np\n",
    "from ipywidgets import widgets\n",
    "from ipywidgets import interact, interactive, fixed, interact_manual\n",
    "from ipywidgets import HBox, VBox\n",
    "from IPython.display import Javascript, display, Math, Latex\n",
    "\n",
    "def run_all(ev):\n",
    "    display(Javascript('IPython.notebook.execute_cells_below()'))\n",
    "\n",
    "button = widgets.Button(description=\"Initialise\")\n",
    "button.on_click(run_all)\n",
    "display(button)"
   ]
  },
  {
   "cell_type": "code",
   "execution_count": 11,
   "metadata": {},
   "outputs": [
    {
     "name": "stdout",
     "output_type": "stream",
     "text": [
      "pandas==0.22.0\n",
      "numpy==1.14.0\n",
      "ipywidgets==7.0.0\n"
     ]
    }
   ],
   "source": [
    "import pkg_resources\n",
    "import types\n",
    "def get_imports():\n",
    "    for name, val in globals().items():\n",
    "        if isinstance(val, types.ModuleType):\n",
    "            # Split ensures you get root package, \n",
    "            # not just imported function\n",
    "            name = val.__name__.split(\".\")[0]\n",
    "\n",
    "        elif isinstance(val, type):\n",
    "            name = val.__module__.split(\".\")[0]\n",
    "\n",
    "        # Some packages are weird and have different\n",
    "        # imported names vs. system/pip names. Unfortunately,\n",
    "        # there is no systematic way to get pip names from\n",
    "        # a package's imported name. You'll have to had\n",
    "        # exceptions to this list manually!\n",
    "        poorly_named_packages = {\n",
    "            \"PIL\": \"Pillow\",\n",
    "            \"sklearn\": \"scikit-learn\"\n",
    "        }\n",
    "        if name in poorly_named_packages.keys():\n",
    "            name = poorly_named_packages[name]\n",
    "\n",
    "        yield name\n",
    "imports = list(set(get_imports()))\n",
    "\n",
    "# The only way I found to get the version of the root package\n",
    "# from only the name of the package is to cross-check the names \n",
    "# of installed packages vs. imported packages\n",
    "requirements = []\n",
    "for m in pkg_resources.working_set:\n",
    "    if m.project_name in imports and m.project_name!=\"pip\":\n",
    "        requirements.append((m.project_name, m.version))\n",
    "\n",
    "for r in requirements:\n",
    "    print(\"{}=={}\".format(*r))"
   ]
  },
  {
   "cell_type": "code",
   "execution_count": 12,
   "metadata": {},
   "outputs": [],
   "source": [
    "# get score from master list\n",
    "def getscore (str, list):\n",
    "    return list.index(str)\n",
    "\n",
    "# get highest two further pure modules\n",
    "def fpure(fpure):\n",
    "    \n",
    "    if fpure.index(min(fpure)) == 2: return \"FP1\", \"FP2\"\n",
    "    elif fpure.index(min(fpure)) == 1: return \"FP1\", \"FP3\"\n",
    "    else : return \"FP2\", \"FP3\"\n",
    "\n",
    "# compute maths grade\n",
    "def grade_maths(maths,scores):\n",
    "    \n",
    "    maths_scores = [0,0,0,0,0,0]\n",
    "    \n",
    "    for i in range(0,6):\n",
    "        maths_scores[i] = scores[1][getscore(maths[i], scores[0])]\n",
    "    \n",
    "    total = sum(maths_scores)\n",
    "    star = maths_scores[2] + maths_scores[3]\n",
    "    \n",
    "    result = 0\n",
    "    if total < 240: result = 7\n",
    "    elif total < 300: result = 6\n",
    "    elif total < 360: result = 5\n",
    "    elif total < 420: result = 4\n",
    "    elif total < 480: result = 3\n",
    "    elif total >= 480 and star < 180: result = 2\n",
    "    elif total >= 480 and star >= 180: result = 1\n",
    "        \n",
    "    return result\n",
    "\n",
    "# compute further maths grade\n",
    "def grade_fmaths(fmaths,scores):\n",
    "    \n",
    "    fmaths_scores = [0,0,0,0,0,0]\n",
    "    for i in range(0,6):\n",
    "        fmaths_scores[i] = scores[1][getscore(fmaths[i], scores[0])]\n",
    "    \n",
    "    total = sum(fmaths_scores)\n",
    "    \n",
    "    star_scores = fmaths_scores\n",
    "    for i in range (0,6):\n",
    "        if \"1\" in fmaths[i]: star_scores[i]=0\n",
    "    star = sorted(star_scores)[-1] + sorted(star_scores)[-2] + sorted(star_scores)[-3]\n",
    "    \n",
    "    result = 0\n",
    "    if total < 240: result = 7\n",
    "    elif total < 300: result = 6\n",
    "    elif total < 360: result = 5\n",
    "    elif total < 420: result = 4\n",
    "    elif total < 480: result = 3\n",
    "    elif total >= 480 and star < 270: result = 2\n",
    "    elif total >= 480 and star >= 270: result = 1\n",
    "        \n",
    "    return result\n",
    "\n",
    "# compute grade for output\n",
    "def grade_output(int):\n",
    "    \n",
    "    result = ''\n",
    "    if int == 7: result = 'U'\n",
    "    elif int == 6: result = 'E'\n",
    "    elif int == 5: result = 'D'\n",
    "    elif int == 4: result = 'C'\n",
    "    elif int == 3: result = 'B'\n",
    "    elif int == 2: result = 'A'\n",
    "    elif int == 1: result = 'A*'\n",
    "        \n",
    "    return result"
   ]
  },
  {
   "cell_type": "code",
   "execution_count": 17,
   "metadata": {},
   "outputs": [],
   "source": [
    "def f(C1=0, C2=0, C3=0, C4=0, M1=0, M2=0, M3=0, S1=0, S2=0, S3=0, D1=0, D2=0, FP1=0, FP2=0, FP3=0, M4=0, M5=0, S4=0):\n",
    "    \n",
    "#first, get a master copy\n",
    "    scores = [[\"C1\",\"C2\",\"C3\",\"C4\",\"FP1\",\"FP2\",\"FP3\",\"M1\",\"M2\",\"M3\",\"M4\",\"M5\",\"S1\",\"S2\",\"S3\",\"S4\",\"D1\",\"D2\",\"\"], \n",
    "              [C1, C2, C3, C4, FP1, FP2, FP3, M1, M2, M3, M4, M5, S1, S2, S3, S4, D1, D2,0]]\n",
    "    \n",
    "# insert non-negotiable scores\n",
    "    maths = [\"C1\",\"C2\",\"C3\",\"C4\", \"\", \"\"]\n",
    "    maths_scores = [0,0,0,0,0,0]\n",
    "    \n",
    "    fmaths1, fmaths2 = fpure([FP1,FP2,FP3])\n",
    "    fmaths = [fmaths1,fmaths2,\"\", \"\",\"\",\"\"]\n",
    "    fmaths_scores = [0,0,0,0,0,0]\n",
    "    \n",
    "# make best assignment to math\n",
    "    maths_posib = [[\"M1\", \"M2\"],[\"D1\", \"D2\"],[\"S1\", \"S2\"], [\"M1\", \"S1\"], [\"M1\", \"D1\"], [\"S1\", \"D1\"]]\n",
    "    temp = [0,1,2,3,4,5]\n",
    "    maths_posib_scores = [0,0,0,0,0,0]\n",
    "    for i in range (0,6):\n",
    "        maths_posib_scores[i] = scores[1][getscore(maths_posib[i][0],scores[0])] + scores[1][getscore(maths_posib[i][1],scores[0])]\n",
    "    maths_posib_sorted = [x for _,x in sorted(zip(maths_posib_scores,temp))]\n",
    "    \n",
    "    maths[4] = maths_posib[maths_posib_sorted[5]][0]\n",
    "    maths[5] = maths_posib[maths_posib_sorted[5]][1]\n",
    "    \n",
    "#format and display output\n",
    "    for i in range(0,6):\n",
    "        maths_scores[i] = scores[1][getscore(maths[i], scores[0])]\n",
    "        \n",
    "    for i in range(0,6):\n",
    "        fmaths_scores[i] = scores[1][getscore(fmaths[i], scores[0])]\n",
    "    \n",
    "    math_output = pd.DataFrame({'Module': maths, 'Score':maths_scores})\n",
    "    fmath_output = pd.DataFrame({'Module': fmaths, 'Score':fmaths_scores})\n",
    "    \n",
    "    print(\"Maths grade: \" + grade_output(grade_maths(maths, scores)))\n",
    "    print(math_output.to_string(index=False))\n",
    "    print(\"\")\n",
    "    print(\"Further maths grade: \" + grade_output(grade_fmaths(fmaths, scores)))\n",
    "    print(fmath_output.to_string(index=False))"
   ]
  },
  {
   "cell_type": "code",
   "execution_count": 18,
   "metadata": {
    "scrolled": false
   },
   "outputs": [
    {
     "data": {
      "application/vnd.jupyter.widget-view+json": {
       "model_id": "865f4dab23a64fc19f0a3e8017ac5018",
       "version_major": 2,
       "version_minor": 0
      },
      "text/plain": [
       "A Jupyter Widget"
      ]
     },
     "metadata": {},
     "output_type": "display_data"
    },
    {
     "name": "stdout",
     "output_type": "stream",
     "text": [
      "Resuts below:\n"
     ]
    },
    {
     "data": {
      "application/vnd.jupyter.widget-view+json": {
       "model_id": "8a0a0ecdd2ae41dfb7ae926a8b20153d",
       "version_major": 2,
       "version_minor": 0
      },
      "text/plain": [
       "A Jupyter Widget"
      ]
     },
     "metadata": {},
     "output_type": "display_data"
    }
   ],
   "source": [
    "C1 = widgets.IntSlider(value=0, min = 0, max = 100, step = 1, description='C1:')\n",
    "C2 = widgets.IntSlider(value=0, min = 0, max = 100, step = 1, description='C2:')\n",
    "C3 = widgets.IntSlider(value=0, min = 0, max = 100, step = 1, description='C3:')\n",
    "C4 = widgets.IntSlider(value=0, min = 0, max = 100, step = 1, description='C4:')\n",
    "C = HBox([C1,C2,C3,C4])\n",
    "\n",
    "FP1 = widgets.IntSlider(value=0, min = 0, max = 100, step = 1, description='FP1:')\n",
    "FP2 = widgets.IntSlider(value=0, min = 0, max = 100, step = 1, description='FP2:')\n",
    "FP3 = widgets.IntSlider(value=0, min = 0, max = 100, step = 1, description='FP3:')\n",
    "FP = HBox([FP1,FP2,FP3],layout={'width':'75%'})\n",
    "\n",
    "M1 = widgets.IntSlider(value=0, min = 0, max = 100, step = 1, description='M1:')\n",
    "M2 = widgets.IntSlider(value=0, min = 0, max = 100, step = 1, description='M2:')\n",
    "M3 = widgets.IntSlider(value=0, min = 0, max = 100, step = 1, description='M3:')\n",
    "M4 = widgets.IntSlider(value=0, min = 0, max = 100, step = 1, description='M4:')\n",
    "M5 = widgets.IntSlider(value=0, min = 0, max = 100, step = 1, description='M5:')\n",
    "M = HBox([M1,M2,M3,M4,M5], layout={'width':'125%'})\n",
    "\n",
    "S1 = widgets.IntSlider(value=0, min = 0, max = 100, step = 1, description='S1:')\n",
    "S2 = widgets.IntSlider(value=0, min = 0, max = 100, step = 1, description='S2:')\n",
    "S3 = widgets.IntSlider(value=0, min = 0, max = 100, step = 1, description='S3:')\n",
    "S4 = widgets.IntSlider(value=0, min = 0, max = 100, step = 1, description='S4:')\n",
    "S = HBox([S1,S2,S3,S4])\n",
    "\n",
    "D1 = widgets.IntSlider(value=0, min = 0, max = 100, step = 1, description='D1:')\n",
    "D2 = widgets.IntSlider(value=0, min = 0, max = 100, step = 1, description='D2:')\n",
    "D = HBox([D1,D2], layout={'width':'50%'})\n",
    "\n",
    "your_marks = widgets.VBox([C,FP,M,S,D])\n",
    "your_grades = widgets.interactive_output(f, {'C1':C1,'C2':C2,'C3':C3,'C4':C4,'FP1':FP1,'FP2':FP2,'FP3':FP3,'M1':M1,'M2':M2,'M3':M3,'M4':M4,'M5':M5,'S1':S1,'S2':S2,'S3':S3,'S4':S4,'D1':D1,'D2':D2})\n",
    "\n",
    "display(your_marks)\n",
    "print('Resuts below:')\n",
    "display(your_grades)"
   ]
  },
  {
   "cell_type": "code",
   "execution_count": null,
   "metadata": {
    "collapsed": true
   },
   "outputs": [],
   "source": []
  }
 ],
 "metadata": {
  "kernelspec": {
   "display_name": "Python 3",
   "language": "python",
   "name": "python3"
  },
  "language_info": {
   "codemirror_mode": {
    "name": "ipython",
    "version": 3
   },
   "file_extension": ".py",
   "mimetype": "text/x-python",
   "name": "python",
   "nbconvert_exporter": "python",
   "pygments_lexer": "ipython3",
   "version": "3.6.3"
  }
 },
 "nbformat": 4,
 "nbformat_minor": 2
}
