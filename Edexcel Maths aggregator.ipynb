{
 "cells": [
  {
   "cell_type": "markdown",
   "metadata": {},
   "source": [
    "# What will my Math/Further Math grades be?\n",
    "\n",
    "This notebook implements the Edexcel aggregation rules to demonstrate the A-level grades that would be obtained from a set of module scores. Simply input your scores below and let the code handle the rest!\n",
    "\n",
    "As a guiding philosophy, the aggregation rules aim to do the following:\n",
    "\n",
    "1. Maximise the Maths grade, then the Further Maths grade.\n",
    "2. Maximise the Maths UMS, then the Further Maths UMS.\n",
    "\n",
    "Just to be clear, the order of priority above implies that lowering your Maths UMS **(without reducing the grade)** in order to increase your Further Maths grade *is* acceptable, since grades are maximised before UMS. However, if increasing your Further Maths grade comes at the cost of reducing your Maths grade, that would *not* be acceptable, since the Math grade is maximised before the Further Maths grade.\n",
    "\n",
    "For the sake of parsimony, this notebook will *not* do the following:\n",
    "\n",
    "-  compute AS-level grades (it only handles the overall A-level)\n",
    "-  compute Pure Maths or Additional Further Maths grades\n",
    "-  handle manual requests which run against the guiding philosophy (e.g. maximising Further Maths grade before Maths grade\n",
    "\n",
    "*Note: Manual requests can be handled by Edexcel. No issue. But this Notebook only aims to demonstrate the standard Edexcel aggregation, not handle special requests*."
   ]
  },
  {
   "cell_type": "code",
   "execution_count": 42,
   "metadata": {},
   "outputs": [],
   "source": [
    "import pandas as pd\n",
    "import numpy as np\n",
    "from ipywidgets import widgets\n",
    "from ipywidgets import interact, interactive, fixed, interact_manual\n",
    "from IPython.display import display, Math, Latex"
   ]
  },
  {
   "cell_type": "markdown",
   "metadata": {},
   "source": [
    "## Algorithm (based on the [Edexcel Aggregation Rules](http://furthermaths.org.uk/docs/Aggregation%20rules%20for%20HEIs%20~%20Version%203%20January%202013.pdf))\n",
    "\n",
    "1. Allocate C1, C2, C3, C4 to Math (non-negotiable).\n",
    "2. Allocate FP1 and the higher of FP2/3 to Further Math (non-negotiable).\n",
    "3. Allocate the best of the following 6 pairs to Math:\n",
    "    -  M1+M2\n",
    "    -  S1+S2\n",
    "    -  D1+D2\n",
    "    -  M1+S1\n",
    "    -  M1+D1\n",
    "    -  S1+D1. \n",
    "4. Allocate the highest 4 of the remaining modules to Further Math.\n",
    "5. Check if the Further Math grade can be improved on by allocating the best pair from step (3) to Further Math and the second best pair to Math, *subject to not lowering the Math grade*.\n",
    "6. If it can, then the re-allocation is performed. If it cannot, then the allocation in (4) is already optimal."
   ]
  },
  {
   "cell_type": "code",
   "execution_count": 48,
   "metadata": {},
   "outputs": [],
   "source": [
    "def f(C1, C2, C3, C4, M1, M2, M3, S1, S2, S3, D1, D2, FP1, FP2, FP3, M4, M5, S4):\n",
    "    print (C2)"
   ]
  },
  {
   "cell_type": "code",
   "execution_count": 49,
   "metadata": {},
   "outputs": [
    {
     "data": {
      "application/vnd.jupyter.widget-view+json": {
       "model_id": "984f9841fddb45acae8890bbdeba7c38",
       "version_major": 2,
       "version_minor": 0
      },
      "text/plain": [
       "A Jupyter Widget"
      ]
     },
     "metadata": {},
     "output_type": "display_data"
    }
   ],
   "source": [
    "your_marks = interactive(f, \n",
    "                C1=(0,100,1), C2=(0,100,1), C3=(0,100,1), C4=(0,100,1), M1=(0,100,1), M2=(0,100,1), M3=(0,100,1), S1=(0,100,1), S2=(0,100,1), S3=(0,100,1), D1=(0,100,1), D2=(0,100,1), FP1=(0,100,1), FP2=(0,100,1), FP3=(0,100,1), M4=(0,100,1), M5=(0,100,1), S4=(0,100,1))\n",
    "display(your_marks)"
   ]
  },
  {
   "cell_type": "code",
   "execution_count": 50,
   "metadata": {},
   "outputs": [
    {
     "data": {
      "text/plain": [
       "{'C1': 50,\n",
       " 'C2': 50,\n",
       " 'C3': 50,\n",
       " 'C4': 50,\n",
       " 'D1': 50,\n",
       " 'D2': 50,\n",
       " 'FP1': 50,\n",
       " 'FP2': 50,\n",
       " 'FP3': 50,\n",
       " 'M1': 50,\n",
       " 'M2': 50,\n",
       " 'M3': 50,\n",
       " 'M4': 50,\n",
       " 'M5': 50,\n",
       " 'S1': 50,\n",
       " 'S2': 50,\n",
       " 'S3': 50,\n",
       " 'S4': 50}"
      ]
     },
     "execution_count": 50,
     "metadata": {},
     "output_type": "execute_result"
    }
   ],
   "source": [
    "your_marks.kwargs"
   ]
  },
  {
   "cell_type": "code",
   "execution_count": null,
   "metadata": {
    "collapsed": true
   },
   "outputs": [],
   "source": []
  }
 ],
 "metadata": {
  "kernelspec": {
   "display_name": "Python 3",
   "language": "python",
   "name": "python3"
  },
  "language_info": {
   "codemirror_mode": {
    "name": "ipython",
    "version": 3
   },
   "file_extension": ".py",
   "mimetype": "text/x-python",
   "name": "python",
   "nbconvert_exporter": "python",
   "pygments_lexer": "ipython3",
   "version": "3.6.3"
  }
 },
 "nbformat": 4,
 "nbformat_minor": 2
}
